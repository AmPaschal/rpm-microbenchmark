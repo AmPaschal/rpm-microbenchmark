{
 "cells": [
  {
   "cell_type": "code",
   "execution_count": null,
   "metadata": {},
   "outputs": [],
   "source": [
    "import pandas as pd\n",
    "import matplotlib.pyplot as plt"
   ]
  },
  {
   "cell_type": "code",
   "execution_count": null,
   "metadata": {},
   "outputs": [],
   "source": [
    "# Read data from a file\n",
    "with open(\"/home/pamusuo/research/permissions-manager/rpm-microbenchmark/src/main/java/com/ampaschal/google/files/data.txt\", \"r\") as file:\n",
    "    lines = file.readlines()\n",
    "\n"
   ]
  },
  {
   "cell_type": "code",
   "execution_count": null,
   "metadata": {},
   "outputs": [],
   "source": [
    "# Extract and parse data\n",
    "parsed_data = []\n",
    "for line in lines:\n",
    "    parts = line.strip().split()\n",
    "    stack_trace_length = int(parts[1])\n",
    "    permission_count = int(parts[2].split(\"_\")[-1].split(\".\")[0])\n",
    "    execution_time = float(parts[-2])\n",
    "    parsed_data.append({'Stack Trace Length': stack_trace_length, 'Permission Count': permission_count, 'Execution Time (us/op)': execution_time})\n",
    "\n"
   ]
  },
  {
   "cell_type": "code",
   "execution_count": null,
   "metadata": {},
   "outputs": [],
   "source": [
    "# Create a DataFrame from the parsed data\n",
    "df = pd.DataFrame(parsed_data)\n",
    "\n",
    "# Group data by Stack Trace Length and create a separate plot for each group\n",
    "grouped = df.groupby('Stack Trace Length')\n"
   ]
  },
  {
   "cell_type": "code",
   "execution_count": null,
   "metadata": {},
   "outputs": [],
   "source": [
    "fig, ax = plt.subplots()\n",
    "\n",
    "for name, group in grouped:\n",
    "    ax.plot(group['Permission Count'], group['Execution Time (us/op)'], marker='o', label=f'Stack Trace Length {name}')\n",
    "\n",
    "# Set labels and title\n",
    "plt.xlabel('Number of Permissions')\n",
    "plt.ylabel('Execution Time (us/op)')\n",
    "plt.title('Execution Time vs Number of Permissions for Different Stack Trace Lengths')\n",
    "\n",
    "# Show a legend\n",
    "plt.legend()\n",
    "\n",
    "# Show the plot\n",
    "plt.show()"
   ]
  }
 ],
 "metadata": {
  "kernelspec": {
   "display_name": "Python 3.9.5 64-bit",
   "language": "python",
   "name": "python3"
  },
  "language_info": {
   "codemirror_mode": {
    "name": "ipython",
    "version": 3
   },
   "file_extension": ".py",
   "mimetype": "text/x-python",
   "name": "python",
   "nbconvert_exporter": "python",
   "pygments_lexer": "ipython3",
   "version": "3.9.5"
  },
  "orig_nbformat": 4,
  "vscode": {
   "interpreter": {
    "hash": "916dbcbb3f70747c44a77c7bcd40155683ae19c65e1c03b4aa3499c5328201f1"
   }
  }
 },
 "nbformat": 4,
 "nbformat_minor": 2
}
